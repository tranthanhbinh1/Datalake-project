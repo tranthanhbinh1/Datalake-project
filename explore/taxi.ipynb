{
 "cells": [
  {
   "cell_type": "code",
   "execution_count": 22,
   "metadata": {
    "collapsed": true
   },
   "outputs": [],
   "source": [
    "import os\n",
    "import pandas as pd\n",
    "os.chdir('/home/tb24/projects/Datalake-project')"
   ]
  },
  {
   "cell_type": "code",
   "execution_count": 18,
   "metadata": {
    "collapsed": false
   },
   "outputs": [],
   "source": [
    "df = pd.read_parquet(\"data/yellow_tripdata_2023-03.parquet\")"
   ]
  },
  {
   "cell_type": "code",
   "execution_count": 19,
   "metadata": {
    "collapsed": false
   },
   "outputs": [
    {
     "data": {
      "text/plain": "   VendorID tpep_pickup_datetime tpep_dropoff_datetime  passenger_count  \\\n0         2  2023-03-01 00:06:43   2023-03-01 00:16:43              1.0   \n1         2  2023-03-01 00:08:25   2023-03-01 00:39:30              2.0   \n2         1  2023-03-01 00:15:04   2023-03-01 00:29:26              0.0   \n3         1  2023-03-01 00:49:37   2023-03-01 01:01:05              1.0   \n4         2  2023-03-01 00:08:04   2023-03-01 00:11:06              1.0   \n5         1  2023-03-01 00:09:09   2023-03-01 00:17:34              1.0   \n6         1  2023-03-01 00:32:21   2023-03-01 00:42:08              1.0   \n7         1  2023-03-01 00:45:12   2023-03-01 00:52:37              1.0   \n8         1  2023-03-01 00:19:43   2023-03-01 00:39:37              1.0   \n9         2  2023-03-01 00:08:42   2023-03-01 00:18:45              1.0   \n\n   trip_distance  RatecodeID store_and_fwd_flag  PULocationID  DOLocationID  \\\n0           0.00         1.0                  N           238            42   \n1          12.40         1.0                  N           138           231   \n2           3.30         1.0                  N           140           186   \n3           2.90         1.0                  N           140            43   \n4           1.23         1.0                  N            79           137   \n5           1.20         1.0                  N           162           137   \n6           1.80         1.0                  N           170            48   \n7           2.00         1.0                  N            48           164   \n8           5.30         1.0                  N           113            61   \n9           2.27         1.0                  N           239           263   \n\n   payment_type  fare_amount  extra  mta_tax  tip_amount  tolls_amount  \\\n0             2          8.6    1.0      0.5        0.00           0.0   \n1             1         52.7    6.0      0.5       12.54           0.0   \n2             1         18.4    3.5      0.5        4.65           0.0   \n3             1         15.6    3.5      0.5        4.10           0.0   \n4             1          7.2    1.0      0.5        2.44           0.0   \n5             1         10.0    3.5      0.5        3.00           0.0   \n6             1         12.1    3.5      0.5        3.40           0.0   \n7             2         10.7    3.5      0.5        0.00           0.0   \n8             1         26.1    3.5      0.5        9.30           0.0   \n9             1         13.5    1.0      0.5        3.70           0.0   \n\n   improvement_surcharge  total_amount  congestion_surcharge  Airport_fee  \n0                    1.0         11.10                   0.0         0.00  \n1                    1.0         76.49                   2.5         1.25  \n2                    1.0         28.05                   2.5         0.00  \n3                    1.0         24.70                   2.5         0.00  \n4                    1.0         14.64                   2.5         0.00  \n5                    1.0         18.00                   2.5         0.00  \n6                    1.0         20.50                   2.5         0.00  \n7                    1.0         15.70                   2.5         0.00  \n8                    1.0         40.40                   2.5         0.00  \n9                    1.0         22.20                   2.5         0.00  ",
      "text/html": "<div>\n<style scoped>\n    .dataframe tbody tr th:only-of-type {\n        vertical-align: middle;\n    }\n\n    .dataframe tbody tr th {\n        vertical-align: top;\n    }\n\n    .dataframe thead th {\n        text-align: right;\n    }\n</style>\n<table border=\"1\" class=\"dataframe\">\n  <thead>\n    <tr style=\"text-align: right;\">\n      <th></th>\n      <th>VendorID</th>\n      <th>tpep_pickup_datetime</th>\n      <th>tpep_dropoff_datetime</th>\n      <th>passenger_count</th>\n      <th>trip_distance</th>\n      <th>RatecodeID</th>\n      <th>store_and_fwd_flag</th>\n      <th>PULocationID</th>\n      <th>DOLocationID</th>\n      <th>payment_type</th>\n      <th>fare_amount</th>\n      <th>extra</th>\n      <th>mta_tax</th>\n      <th>tip_amount</th>\n      <th>tolls_amount</th>\n      <th>improvement_surcharge</th>\n      <th>total_amount</th>\n      <th>congestion_surcharge</th>\n      <th>Airport_fee</th>\n    </tr>\n  </thead>\n  <tbody>\n    <tr>\n      <th>0</th>\n      <td>2</td>\n      <td>2023-03-01 00:06:43</td>\n      <td>2023-03-01 00:16:43</td>\n      <td>1.0</td>\n      <td>0.00</td>\n      <td>1.0</td>\n      <td>N</td>\n      <td>238</td>\n      <td>42</td>\n      <td>2</td>\n      <td>8.6</td>\n      <td>1.0</td>\n      <td>0.5</td>\n      <td>0.00</td>\n      <td>0.0</td>\n      <td>1.0</td>\n      <td>11.10</td>\n      <td>0.0</td>\n      <td>0.00</td>\n    </tr>\n    <tr>\n      <th>1</th>\n      <td>2</td>\n      <td>2023-03-01 00:08:25</td>\n      <td>2023-03-01 00:39:30</td>\n      <td>2.0</td>\n      <td>12.40</td>\n      <td>1.0</td>\n      <td>N</td>\n      <td>138</td>\n      <td>231</td>\n      <td>1</td>\n      <td>52.7</td>\n      <td>6.0</td>\n      <td>0.5</td>\n      <td>12.54</td>\n      <td>0.0</td>\n      <td>1.0</td>\n      <td>76.49</td>\n      <td>2.5</td>\n      <td>1.25</td>\n    </tr>\n    <tr>\n      <th>2</th>\n      <td>1</td>\n      <td>2023-03-01 00:15:04</td>\n      <td>2023-03-01 00:29:26</td>\n      <td>0.0</td>\n      <td>3.30</td>\n      <td>1.0</td>\n      <td>N</td>\n      <td>140</td>\n      <td>186</td>\n      <td>1</td>\n      <td>18.4</td>\n      <td>3.5</td>\n      <td>0.5</td>\n      <td>4.65</td>\n      <td>0.0</td>\n      <td>1.0</td>\n      <td>28.05</td>\n      <td>2.5</td>\n      <td>0.00</td>\n    </tr>\n    <tr>\n      <th>3</th>\n      <td>1</td>\n      <td>2023-03-01 00:49:37</td>\n      <td>2023-03-01 01:01:05</td>\n      <td>1.0</td>\n      <td>2.90</td>\n      <td>1.0</td>\n      <td>N</td>\n      <td>140</td>\n      <td>43</td>\n      <td>1</td>\n      <td>15.6</td>\n      <td>3.5</td>\n      <td>0.5</td>\n      <td>4.10</td>\n      <td>0.0</td>\n      <td>1.0</td>\n      <td>24.70</td>\n      <td>2.5</td>\n      <td>0.00</td>\n    </tr>\n    <tr>\n      <th>4</th>\n      <td>2</td>\n      <td>2023-03-01 00:08:04</td>\n      <td>2023-03-01 00:11:06</td>\n      <td>1.0</td>\n      <td>1.23</td>\n      <td>1.0</td>\n      <td>N</td>\n      <td>79</td>\n      <td>137</td>\n      <td>1</td>\n      <td>7.2</td>\n      <td>1.0</td>\n      <td>0.5</td>\n      <td>2.44</td>\n      <td>0.0</td>\n      <td>1.0</td>\n      <td>14.64</td>\n      <td>2.5</td>\n      <td>0.00</td>\n    </tr>\n    <tr>\n      <th>5</th>\n      <td>1</td>\n      <td>2023-03-01 00:09:09</td>\n      <td>2023-03-01 00:17:34</td>\n      <td>1.0</td>\n      <td>1.20</td>\n      <td>1.0</td>\n      <td>N</td>\n      <td>162</td>\n      <td>137</td>\n      <td>1</td>\n      <td>10.0</td>\n      <td>3.5</td>\n      <td>0.5</td>\n      <td>3.00</td>\n      <td>0.0</td>\n      <td>1.0</td>\n      <td>18.00</td>\n      <td>2.5</td>\n      <td>0.00</td>\n    </tr>\n    <tr>\n      <th>6</th>\n      <td>1</td>\n      <td>2023-03-01 00:32:21</td>\n      <td>2023-03-01 00:42:08</td>\n      <td>1.0</td>\n      <td>1.80</td>\n      <td>1.0</td>\n      <td>N</td>\n      <td>170</td>\n      <td>48</td>\n      <td>1</td>\n      <td>12.1</td>\n      <td>3.5</td>\n      <td>0.5</td>\n      <td>3.40</td>\n      <td>0.0</td>\n      <td>1.0</td>\n      <td>20.50</td>\n      <td>2.5</td>\n      <td>0.00</td>\n    </tr>\n    <tr>\n      <th>7</th>\n      <td>1</td>\n      <td>2023-03-01 00:45:12</td>\n      <td>2023-03-01 00:52:37</td>\n      <td>1.0</td>\n      <td>2.00</td>\n      <td>1.0</td>\n      <td>N</td>\n      <td>48</td>\n      <td>164</td>\n      <td>2</td>\n      <td>10.7</td>\n      <td>3.5</td>\n      <td>0.5</td>\n      <td>0.00</td>\n      <td>0.0</td>\n      <td>1.0</td>\n      <td>15.70</td>\n      <td>2.5</td>\n      <td>0.00</td>\n    </tr>\n    <tr>\n      <th>8</th>\n      <td>1</td>\n      <td>2023-03-01 00:19:43</td>\n      <td>2023-03-01 00:39:37</td>\n      <td>1.0</td>\n      <td>5.30</td>\n      <td>1.0</td>\n      <td>N</td>\n      <td>113</td>\n      <td>61</td>\n      <td>1</td>\n      <td>26.1</td>\n      <td>3.5</td>\n      <td>0.5</td>\n      <td>9.30</td>\n      <td>0.0</td>\n      <td>1.0</td>\n      <td>40.40</td>\n      <td>2.5</td>\n      <td>0.00</td>\n    </tr>\n    <tr>\n      <th>9</th>\n      <td>2</td>\n      <td>2023-03-01 00:08:42</td>\n      <td>2023-03-01 00:18:45</td>\n      <td>1.0</td>\n      <td>2.27</td>\n      <td>1.0</td>\n      <td>N</td>\n      <td>239</td>\n      <td>263</td>\n      <td>1</td>\n      <td>13.5</td>\n      <td>1.0</td>\n      <td>0.5</td>\n      <td>3.70</td>\n      <td>0.0</td>\n      <td>1.0</td>\n      <td>22.20</td>\n      <td>2.5</td>\n      <td>0.00</td>\n    </tr>\n  </tbody>\n</table>\n</div>"
     },
     "execution_count": 19,
     "metadata": {},
     "output_type": "execute_result"
    }
   ],
   "source": [
    "df.head(10)"
   ]
  },
  {
   "cell_type": "code",
   "execution_count": 20,
   "outputs": [
    {
     "data": {
      "text/plain": "VendorID                 3403766\ntpep_pickup_datetime     3403766\ntpep_dropoff_datetime    3403766\npassenger_count          3316147\ntrip_distance            3403766\nRatecodeID               3316147\nstore_and_fwd_flag       3316147\nPULocationID             3403766\nDOLocationID             3403766\npayment_type             3403766\nfare_amount              3403766\nextra                    3403766\nmta_tax                  3403766\ntip_amount               3403766\ntolls_amount             3403766\nimprovement_surcharge    3403766\ntotal_amount             3403766\ncongestion_surcharge     3316147\nAirport_fee              3316147\ndtype: int64"
     },
     "execution_count": 20,
     "metadata": {},
     "output_type": "execute_result"
    }
   ],
   "source": [
    "df.count()"
   ],
   "metadata": {
    "collapsed": false
   }
  }
 ],
 "metadata": {
  "kernelspec": {
   "display_name": "Python 3",
   "language": "python",
   "name": "python3"
  },
  "language_info": {
   "codemirror_mode": {
    "name": "ipython",
    "version": 3
   },
   "file_extension": ".py",
   "mimetype": "text/x-python",
   "name": "python",
   "nbconvert_exporter": "python",
   "pygments_lexer": "ipython3",
   "version": "3.11.3"
  }
 },
 "nbformat": 4,
 "nbformat_minor": 0
}
