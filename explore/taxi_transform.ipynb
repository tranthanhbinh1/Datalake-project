{
 "cells": [
  {
   "cell_type": "code",
   "execution_count": null,
   "outputs": [],
   "source": [
    "import pyspark\n",
    "from pyspark.sql import SparkSession"
   ],
   "metadata": {
    "collapsed": false
   }
  },
  {
   "cell_type": "code",
   "execution_count": null,
   "outputs": [],
   "source": [
    "spark=SparkSession.builder.appName(\"nyc_taxi\").config(\"spark.local.dir\", \"/home/tb24/projects/Datalake-project\").getOrCreate()"
   ],
   "metadata": {
    "collapsed": false
   }
  },
  {
   "cell_type": "code",
   "execution_count": null,
   "outputs": [],
   "source": [
    "df = spark.read.parquet(\"/home/tb24/projects/Datalake-project/data/yellow_tripdata_2023-03.parquet\")\n",
    "df.printSchema()"
   ],
   "metadata": {
    "collapsed": false
   }
  },
  {
   "cell_type": "code",
   "execution_count": null,
   "outputs": [],
   "source": [
    "df.createOrReplaceGlobalTempView(\"dfTable\")"
   ],
   "metadata": {
    "collapsed": false
   }
  },
  {
   "cell_type": "code",
   "execution_count": null,
   "outputs": [],
   "source": [
    "from pyspark.sql.functions import avg\n",
    "# Average fee of a taxi ride\n",
    "df.selectExpr(\"avg(total_amount)\").show(2)\n",
    "# Average trip Distance\n",
    "df.select(avg(\"trip_distance\")).show(2)\n",
    "# Average tips, tolls and fare and congestion surcharge\n",
    "df.select(avg(\"tip_amount\").alias(\"average_tip_amount\"),\n",
    "          avg(\"tolls_amount\").alias('average_toll_amount'),\n",
    "          avg(\"fare_amount\").alias('average_fare'),\n",
    "          avg(\"congestion_surcharge\").alias('average_congestion_surcharge')\n",
    ").show(2)"
   ],
   "metadata": {
    "collapsed": false
   }
  },
  {
   "cell_type": "code",
   "execution_count": null,
   "outputs": [],
   "source": [
    "from pyspark.sql.functions import min, max, count_distinct, col\n",
    "# Biggest number of Passengers\n",
    "df.select(max('passenger_count')).show(2)\n",
    "# Biggest fare for a ride and its trip distance\n",
    "df.groupby('trip_distance').agg(max('fare_amount')).show(2)"
   ],
   "metadata": {
    "collapsed": false
   }
  }
 ],
 "metadata": {
  "kernelspec": {
   "display_name": "Python 3",
   "language": "python",
   "name": "python3"
  },
  "language_info": {
   "codemirror_mode": {
    "name": "ipython",
    "version": 2
   },
   "file_extension": ".py",
   "mimetype": "text/x-python",
   "name": "python",
   "nbconvert_exporter": "python",
   "pygments_lexer": "ipython2",
   "version": "2.7.6"
  }
 },
 "nbformat": 4,
 "nbformat_minor": 0
}
